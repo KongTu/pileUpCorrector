{
 "cells": [
  {
   "cell_type": "markdown",
   "metadata": {},
   "source": [
    "# <img style=\"float: ;margin: 10px 10px 15px 15px;\" src=\"http://www.symmetrymagazine.org/sites/default/files/breaking/wp-content/uploads/2010/11/cms_firstleadcoll.jpg\" width=\"300\"> "
   ]
  },
  {
   "cell_type": "markdown",
   "metadata": {},
   "source": [
    "# pileUp filter for Run2 pp analysis\n",
    "\n",
    "\n",
    "For run 2 pp analysis, the pileup scenario (pileup probability) for 5 TeV reference run is around 1.2-1.4, where the pileup is defined as <dfn><strong> multiple interactions per bunch crossing </dfn></strong>. The pileup events, if not excluded, would have a non-negligible effect to various of physics observables. For the simplest case, the pp spectra measurement, we want to measure the particle yield, or number of tracks in each $p_{T}$ bin, per event instead of per bunch crossing. Therefore, the pileup filter is necessary for precise measurements."
   ]
  },
  {
   "cell_type": "markdown",
   "metadata": {},
   "source": [
    "## <hr> Purpose of the notes\n",
    "\n",
    "- Short introduction of various type of filters\n",
    "- Samples for pileup study\n",
    "- Performance plots to support the cuts \n",
    "- Documentation for developing the pileup filters for further references\n",
    "\n",
    "\n"
   ]
  },
  {
   "cell_type": "code",
   "execution_count": 6,
   "metadata": {
    "collapsed": false
   },
   "outputs": [],
   "source": [
    "from IPython.display import Image\n",
    "from prettytable import PrettyTable"
   ]
  },
  {
   "cell_type": "markdown",
   "metadata": {},
   "source": [
    "### Samples for pileup study\n",
    "\n",
    "For pileup study, we have used a few different samples to determine what cut values should be used. \n",
    "- For MC \n",
    "    - pp Pythia8 MinBias sample with <strong> no pileup </strong>, <A HREF=\"https://cmsweb.cern.ch/das/request?view=list&instance=prod%2Fphys03&input=%2FMinBias_TuneCUETP8M1_5p02TeV-pythia8%2Ftwang-MinBias_TuneCUETP8M1_5p02TeV_pythia8_pp502Fall15_MCRUN2_71_V1_v1_AOD_CMSSW_7_5_4_20151113-78e0f1f0cb22713d3582ee21ebad8b42%2FUSER\">Click Me for DAS link</A>\n",
    "    - pp Pythia8 MinBias sample with <strong> exactly pileup = 2 </strong>, <A HREF=\"https://cmsweb.cern.ch/das/request?input=%2FNeutrinos5Mfor5TeVpp%2Fgsfs-pp5TeVPileupAOD__2015_11_18-0fbbb68e7aea6e58696cc3c7d18d21c8%2FUSER&instance=prod%2Fphys03\">Click Me for DAS link</A>\n",
    "- For Data\n",
    "    - pp 5TeV reference run"
   ]
  },
  {
   "cell_type": "code",
   "execution_count": 14,
   "metadata": {
    "collapsed": false
   },
   "outputs": [
    {
     "name": "stdout",
     "output_type": "stream",
     "text": [
      "+------------+--------+--------+\n",
      "|  Samples   | pileup | Events |\n",
      "+------------+--------+--------+\n",
      "| Pythia8 MB |   1    |  4.97  |\n",
      "| Pythia8 MB |   2    |  4.2   |\n",
      "|  Data MB   |  1.4   |   0    |\n",
      "+------------+--------+--------+\n"
     ]
    }
   ],
   "source": [
    "x = PrettyTable([\"Samples\", \"pileup\", \"Events\"])\n",
    "x.align[\"City name\"] = \"l\" # Left align city names\n",
    "x.padding_width = 1 # One space between column edges and contents (default)\n",
    "x.add_row([\"Pythia8 MB\",1, 4.97])\n",
    "x.add_row([\"Pythia8 MB\",2, 4.2])\n",
    "x.add_row([\"Data MB\", 1.4, 0])\n",
    "\n",
    "print x"
   ]
  },
  {
   "cell_type": "code",
   "execution_count": null,
   "metadata": {
    "collapsed": true
   },
   "outputs": [],
   "source": []
  }
 ],
 "metadata": {
  "kernelspec": {
   "display_name": "Python 2",
   "language": "python",
   "name": "python2"
  },
  "language_info": {
   "codemirror_mode": {
    "name": "ipython",
    "version": 2
   },
   "file_extension": ".py",
   "mimetype": "text/x-python",
   "name": "python",
   "nbconvert_exporter": "python",
   "pygments_lexer": "ipython2",
   "version": "2.7.10"
  }
 },
 "nbformat": 4,
 "nbformat_minor": 0
}
